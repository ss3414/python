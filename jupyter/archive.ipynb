{
 "cells": [
  {
   "cell_type": "code",
   "execution_count": null,
   "metadata": {},
   "outputs": [],
   "source": [
    "# Jupyter Notebook\n",
    "!cd / # 子Shell中执行，执行完关闭子Shell\n",
    "%cd / # 当前Shell中执行"
   ]
  },
  {
   "cell_type": "code",
   "execution_count": null,
   "metadata": {
    "pycharm": {
     "is_executing": false,
     "name": "#%%\n"
    }
   },
   "outputs": [],
   "source": [
    "# Python包安装路径\n",
    "import sys\n",
    "sys.path"
   ]
  },
  {
   "cell_type": "code",
   "execution_count": null,
   "metadata": {
    "pycharm": {
     "is_executing": false
    }
   },
   "outputs": [],
   "source": [
    "# pyopenjtalk\n",
    "!cmake -version\n",
    "!gcc -v\n",
    "!pip show cython\n",
    "\n",
    "!unzip /content/drive/MyDrive/pyopenjtalk-0.2.0.zip -d /usr/local/lib/python3.9/dist-packages # 解压pyopenjtalk到Python包安装路径\n",
    "\n",
    "# 测试\n",
    "import pyopenjtalk\n",
    "pyopenjtalk.extract_fullcontext(\"こんにちは\")"
   ]
  },
  {
   "cell_type": "code",
   "execution_count": null,
   "metadata": {},
   "outputs": [],
   "source": [
    "# torch\n",
    "\n",
    "# CUDA是否可用\n",
    "import torch\n",
    "print(torch.cuda.is_available())"
   ]
  },
  {
   "cell_type": "code",
   "execution_count": null,
   "metadata": {},
   "outputs": [],
   "source": [
    "# Colab\n",
    "\n",
    "# 查看Python版本（可以安装Python其他版本，但在Notebook中执行Python代码依然会使用默认版本）\n",
    "import sys\n",
    "print(sys.version)\n",
    "\n",
    "# 配置Conda\n",
    "!wget -c https://repo.anaconda.com/miniconda/Miniconda3-py38_23.3.1-0-Linux-x86_64.sh\n",
    "!chmod +x Miniconda3-py38_23.3.1-0-Linux-x86_64.sh\n",
    "!bash ./Miniconda3-py38_23.3.1-0-Linux-x86_64.sh -b -f -p /usr/local\n",
    "\n",
    "import sys\n",
    "sys.path.insert(0, \"/usr/local/lib/python3.8/site-packages/\") # 加入环境变量\n",
    "\n",
    "# 挂载Google Drive\n",
    "from google.colab import drive\n",
    "drive.mount(\"/content/drive\")\n",
    "\n",
    "!ls -l -F /content/drive/MyDrive # 查看Google Drive目录\n",
    "\n",
    "# 启用GPU（修改>笔记本设置）\n",
    "!nvidia-smi\n",
    "\n",
    "# MySQL\n",
    "!sudo apt install mariadb-server\n",
    "!sudo apt install mariadb-client\n",
    "!pip install pymysql\n",
    "!pip install mysql-connector-python\n",
    "\n",
    "!sudo mysql -u root -p # 直接输入密码2468\n",
    "# use mysql;\n",
    "# set password for 'root'@'localhost' = password('2468');\n",
    "# flush privileges;\n",
    "\n",
    "!mysql -u root -p2468 -D python < test.sql # 导入数据"
   ]
  },
  {
   "cell_type": "code",
   "execution_count": null,
   "metadata": {
    "pycharm": {
     "is_executing": false
    }
   },
   "outputs": [],
   "source": [
    "# Kaggle\n",
    "\n",
    "# 切换工作目录\n",
    "import os\n",
    "if os.getcwd() != \"/kaggle/working/tacotron2\":\n",
    "    os.chdir(\"/kaggle/working/tacotron2\")\n",
    "\n",
    "# 下载文件\n",
    "import os\n",
    "os.chdir(\"/kaggle/working\")\n",
    "from IPython.display import FileLink\n",
    "FileLink(\"pyopenjtalk.tar.gz\")\n",
    "\n",
    "# 下载Google Drive文件\n",
    "!pip install gdown\n",
    "!gdown --id # Google Drive分享文件后根据id下载"
   ]
  }
 ],
 "metadata": {
  "kernelspec": {
   "display_name": "Python 3 (ipykernel)",
   "language": "python",
   "name": "python3"
  },
  "language_info": {
   "codemirror_mode": {
    "name": "ipython",
    "version": 3
   },
   "file_extension": ".py",
   "mimetype": "text/x-python",
   "name": "python",
   "nbconvert_exporter": "python",
   "pygments_lexer": "ipython3",
   "version": "3.10.9"
  },
  "pycharm": {
   "stem_cell": {
    "cell_type": "raw",
    "metadata": {
     "collapsed": false
    },
    "source": []
   }
  }
 },
 "nbformat": 4,
 "nbformat_minor": 1
}
