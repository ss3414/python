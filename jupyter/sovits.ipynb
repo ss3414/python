{
 "cells": [
  {
   "cell_type": "code",
   "execution_count": null,
   "metadata": {},
   "outputs": [],
   "source": [
    "# Colab+so-vits\n",
    "\n",
    "# 配置Conda\n",
    "!wget -c https://repo.anaconda.com/miniconda/Miniconda3-py39_4.11.0-Linux-x86_64.sh\n",
    "!chmod +x Miniconda3-py39_4.11.0-Linux-x86_64.sh\n",
    "!bash Miniconda3-py39_4.11.0-Linux-x86_64.sh -b -f -p /usr/local\n",
    "\n",
    "import sys\n",
    "sys.path.insert(0, \"/usr/local/lib/python3.9/site-packages/\") # 加入环境变量\n",
    "\n",
    "!conda create -n vits python=3.9.1 -y # 创建独立环境\n",
    "!activate vits\n",
    "!python -V\n",
    "\n",
    "# 下载项目并安装依赖\n",
    "!git clone https://github.com/Plutoisy/so-vits-svc\n",
    "%cd /content/so-vits-svc\n",
    "!pip install -r requirements.txt\n",
    "\n",
    "!pip uninstall numpy -y\n",
    "!pip install numpy==1.23.5\n",
    "\n",
    "# 下载预模型\n",
    "!wget https://huggingface.co/Plutoisy/pt_file/resolve/main/checkpoint_best_legacy_500.pt -P hubert/"
   ]
  },
  {
   "cell_type": "code",
   "execution_count": null,
   "metadata": {},
   "outputs": [],
   "source": [
    "# 创建目录\n",
    "!mkdir raw\n",
    "!mkdir dataset_raw\n",
    "\n",
    "# 挂载Google Drive\n",
    "from google.colab import drive\n",
    "drive.mount(\"/content/drive\")\n",
    "\n",
    "# 从Google Drive拷贝压缩包\n",
    "!cp /content/drive/MyDrive/test.zip /content/so-vits-svc/dataset_raw/test.zip\n",
    "!unzip /content/so-vits-svc/dataset_raw/test.zip -d /content/so-vits-svc/dataset_raw/\n",
    "\n",
    "# 重采样至44100hz\n",
    "!python resample.py\n",
    "\n",
    "# 划分数据集+生成配置文件\n",
    "!python preprocess_flist_config.py\n",
    "\n",
    "# 生成hubert和f0\n",
    "!python preprocess_hubert_f0.py\n",
    "\n",
    "# 备份已处理数据\n",
    "!zip -r dataset.zip /content/so-vits-svc/dataset\n",
    "!cp /content/so-vits-svc/dataset.zip /content/drive/MyDrive/test/\n",
    "!cp configs/config.json /content/drive/MyDrive/test/\n",
    "!cp filelists/train.txt /content/drive/MyDrive/test/\n",
    "!cp filelists/val.txt /content/drive/MyDrive/test/"
   ]
  },
  {
   "cell_type": "code",
   "execution_count": null,
   "metadata": {},
   "outputs": [],
   "source": [
    "# 首次训练使用预模型\n",
    "pre_pth = False #@param {type:\"boolean\"}\n",
    "if pre_pth:\n",
    "    !wget https://huggingface.co/Plutoisy/pt_file/resolve/main/D_0.pth -P logs/44k/\n",
    "    !wget https://huggingface.co/Plutoisy/pt_file/resolve/main/G_0.pth -P logs/44k/\n",
    "\n",
    "# 继续训练使用已有模型\n",
    "Save_to_drive = False #@param {type:\"boolean\"}\n",
    "if Save_to_drive:\n",
    "    !rm -rf /content/so-vits-svc/logs/44k\n",
    "    !cp /content/drive/MyDrive/D_2400.pth /content/so-vits-svc/logs/44k/D_2400.pth\n",
    "    !cp /content/drive/MyDrive/G_2400.pth /content/so-vits-svc/logs/44k/G_2400.pth\n",
    "\n",
    "# 训练\n",
    "!pip uninstall numpy -y\n",
    "!pip install numpy==1.22.0 # 降级numpy训练\n",
    "\n",
    "!python train.py -c configs/config.json -m 44k\n",
    "\n",
    "# 备份模型\n",
    "!cp /content/so-vits-svc/logs/44k/D_2400.pth /content/drive/MyDrive/test/\n",
    "!cp /content/so-vits-svc/logs/44k/G_2400.pth /content/drive/MyDrive/test/\n",
    "\n",
    "# 测试（超过10秒无法转换）\n",
    "!cp /content/drive/MyDrive/test/10000.ogg /content/so-vits-svc/raw/\n",
    "!python inference_main.py -m \"logs/44k/G_2400.pth\" -c \"configs/config.json\" -n \"10000.ogg\" -s test # -s为数据集名称\n",
    "\n",
    "# 查看并复制结果\n",
    "!ls -l -f /content/so-vits-svc/results\n",
    "!cp /content/so-vits-svc/results/10000.ogg_0key_test.flac /content/drive/MyDrive/test/"
   ]
  }
 ],
 "metadata": {
  "kernelspec": {
   "display_name": "Python 3 (ipykernel)",
   "language": "python",
   "name": "python3"
  },
  "language_info": {
   "codemirror_mode": {
    "name": "ipython",
    "version": 3
   },
   "file_extension": ".py",
   "mimetype": "text/x-python",
   "name": "python",
   "nbconvert_exporter": "python",
   "pygments_lexer": "ipython3",
   "version": "3.10.9"
  },
  "pycharm": {
   "stem_cell": {
    "cell_type": "raw",
    "metadata": {
     "collapsed": false
    },
    "source": []
   }
  }
 },
 "nbformat": 4,
 "nbformat_minor": 1
}
