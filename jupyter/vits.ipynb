{
 "cells": [
  {
   "cell_type": "code",
   "execution_count": null,
   "metadata": {},
   "outputs": [],
   "source": [
    "# Colab+VITS Fast（使用前查看原作者是否做了修改）\n",
    "\n",
    "# 配置Conda\n",
    "!wget -c https://repo.anaconda.com/miniconda/Miniconda3-py38_23.3.1-0-Linux-x86_64.sh\n",
    "!chmod +x Miniconda3-py38_23.3.1-0-Linux-x86_64.sh\n",
    "!bash Miniconda3-py38_23.3.1-0-Linux-x86_64.sh -b -f -p /usr/local\n",
    "\n",
    "import sys\n",
    "sys.path.insert(0, \"/usr/local/lib/python3.8/site-packages/\") # 加入环境变量\n",
    "\n",
    "!conda create -n vits python=3.8.1 -y # 创建独立环境\n",
    "!activate vits\n",
    "!python -V\n",
    "\n",
    "# 下载项目并安装依赖\n",
    "!git clone https://github.com/Plachtaa/VITS-fast-fine-tuning.git\n",
    "%cd VITS-fast-fine-tuning\n",
    "!pip install -r requirements.txt\n",
    "\n",
    "# 编译monotonic align\n",
    "%cd monotonic_align/\n",
    "!mkdir monotonic_align\n",
    "!python setup.py build_ext --inplace\n",
    "%cd ..\n",
    "\n",
    "# 下载预模型\n",
    "!wget https://huggingface.co/datasets/Plachta/sampled_audio4ft/resolve/main/sampled_audio4ft_v2.zip\n",
    "!unzip sampled_audio4ft_v2.zip\n",
    "\n",
    "# 创建目录\n",
    "!mkdir raw_audio\n",
    "!mkdir denoised_audio\n",
    "!mkdir pretrained_models\n",
    "!mkdir custom_character_voice\n",
    "!mkdir segmented_character_voice"
   ]
  },
  {
   "cell_type": "code",
   "execution_count": null,
   "metadata": {},
   "outputs": [],
   "source": [
    "# 选择预训练模型\n",
    "PRETRAINED_MODEL = \"CJ\" #@param [\"CJ\",\"CJE\"]\n",
    "if PRETRAINED_MODEL == \"CJ\": # 中日双语\n",
    "    !wget https://huggingface.co/spaces/sayashi/vits-uma-genshin-honkai/resolve/main/model/D_0-p.pth -O ./pretrained_models/D_0.pth\n",
    "    !wget https://huggingface.co/spaces/sayashi/vits-uma-genshin-honkai/resolve/main/model/G_0-p.pth -O ./pretrained_models/G_0.pth\n",
    "    !wget https://huggingface.co/spaces/sayashi/vits-uma-genshin-honkai/resolve/main/model/config.json -O ./configs/finetune_speaker.json\n",
    "elif PRETRAINED_MODEL == \"CJE\": # 中日英三语\n",
    "    !wget https://huggingface.co/spaces/Plachta/VITS-Umamusume-voice-synthesizer/resolve/main/pretrained_models/D_trilingual.pth -O ./pretrained_models/D_0.pth\n",
    "    !wget https://huggingface.co/spaces/Plachta/VITS-Umamusume-voice-synthesizer/resolve/main/pretrained_models/G_trilingual.pth -O ./pretrained_models/G_0.pth\n",
    "    !wget https://huggingface.co/spaces/Plachta/VITS-Umamusume-voice-synthesizer/resolve/main/configs/uma_trilingual.json -O ./configs/finetune_speaker.json\n",
    "\n",
    "# 挂载Google Drive\n",
    "from google.colab import drive\n",
    "drive.mount(\"/content/drive\")"
   ]
  },
  {
   "cell_type": "code",
   "execution_count": null,
   "metadata": {},
   "outputs": [],
   "source": [
    "# 查看音频文件\n",
    "!ls -l -F /content/VITS-fast-fine-tuning/custom_character_voice\n",
    "\n",
    "# 从Google Drive拷贝压缩包\n",
    "!cp /content/drive/MyDrive/test.zip /content/VITS-fast-fine-tuning/custom_character_voice/test.zip\n",
    "!unzip ./custom_character_voice/test.zip -d ./custom_character_voice/\n",
    "# !cp /content/drive/MyDrive/test.wav ./raw_audio/ # 长音频\n",
    "\n",
    "# 降噪\n",
    "!python scripts/denoise_audio.py\n",
    "\n",
    "# 分割标注音频文件\n",
    "!python scripts/short_audio_transcribe.py --languages \"CJ\" --whisper_size large\n",
    "# !python scripts/long_audio_transcribe.py --languages \"CJ\" --whisper_size large\n",
    "\n",
    "# （可能的）重采样\n",
    "!python scripts/resample.py\n",
    "\n",
    "# 样本少于100条使用辅助训练数据，反之不使用\n",
    "!python preprocess_v2.py --languages \"CJ\"\n",
    "# !python preprocess_v2.py --add_auxiliary_data True --languages \"CJ\"\n",
    "\n",
    "# 训练\n",
    "Maximum_epochs = \"50\" #@param [50, 100, 150]\n",
    "!python finetune_speaker_v2.py -m \"./OUTPUT_MODEL\" --max_epochs \"{Maximum_epochs}\" --drop_speaker_embed True\n",
    "\n",
    "# 测试\n",
    "!cp ./configs/modified_finetune_speaker.json ./finetune_speaker.json\n",
    "!python VC_inference.py --model_dir ./OUTPUT_MODEL/G_latest.pth --share True\n",
    "\n",
    "# 下载模型\n",
    "!python scripts/rearrange_speaker.py \n",
    "!python scripts/download_model.py\n",
    "\n",
    "# 备份模型\n",
    "!python scripts/rearrange_speaker.py\n",
    "!cp ./G_latest.pth /content/drive/MyDrive/test/G_latest.pth\n",
    "!cp ./finetune_speaker.json /content/drive/MyDrive/test/finetune_speaker.json\n",
    "\n",
    "# 查看模型\n",
    "!ls -l -F ./OUTPUT_MODEL\n",
    "\n",
    "# 删除音频文件及模型\n",
    "!rm -rf ./custom_character_voice/*\n",
    "!rm -rf ./raw_audio/*\n",
    "!rm -rf ./denoised_audio/*\n",
    "!rm -rf ./segmented_character_voice/*\n",
    "!rm -rf long_character_anno.txt\n",
    "!rm -rf short_character_anno.txt"
   ]
  }
 ],
 "metadata": {
  "kernelspec": {
   "display_name": "Python 3 (ipykernel)",
   "language": "python",
   "name": "python3"
  },
  "language_info": {
   "codemirror_mode": {
    "name": "ipython",
    "version": 3
   },
   "file_extension": ".py",
   "mimetype": "text/x-python",
   "name": "python",
   "nbconvert_exporter": "python",
   "pygments_lexer": "ipython3",
   "version": "3.10.9"
  },
  "pycharm": {
   "stem_cell": {
    "cell_type": "raw",
    "metadata": {
     "collapsed": false
    },
    "source": []
   }
  }
 },
 "nbformat": 4,
 "nbformat_minor": 1
}
